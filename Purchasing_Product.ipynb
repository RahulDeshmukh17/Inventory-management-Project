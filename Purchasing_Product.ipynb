{
  "nbformat": 4,
  "nbformat_minor": 0,
  "metadata": {
    "colab": {
      "name": "Purchasing Product.ipynb",
      "provenance": []
    },
    "kernelspec": {
      "name": "python3",
      "display_name": "Python 3"
    },
    "language_info": {
      "name": "python"
    }
  },
  "cells": [
    {
      "cell_type": "markdown",
      "metadata": {
        "id": "j5Rfs6QUSKA-"
      },
      "source": [
        "# **Read Inventory**"
      ]
    },
    {
      "cell_type": "code",
      "metadata": {
        "id": "Ueo-okPoR4O_"
      },
      "source": [
        "import json\n",
        "\n",
        "fd = open(\"record.json\", 'r')\n",
        "r = fd.read()\n",
        "fd.close()"
      ],
      "execution_count": 79,
      "outputs": []
    },
    {
      "cell_type": "code",
      "metadata": {
        "id": "dmnk7jxFR-m2"
      },
      "source": [
        "records = json.loads(r)"
      ],
      "execution_count": 80,
      "outputs": []
    },
    {
      "cell_type": "code",
      "metadata": {
        "colab": {
          "base_uri": "https://localhost:8080/"
        },
        "id": "GKLm4nsxSBge",
        "outputId": "60d1d840-441c-4204-d5c2-90d1431d3568"
      },
      "source": [
        "records"
      ],
      "execution_count": 81,
      "outputs": [
        {
          "output_type": "execute_result",
          "data": {
            "text/plain": [
              "{'1001': {'name': 'Choco Cake', 'pr': 100, 'qn': 34},\n",
              " '1002': {'name': 'Milk Cake', 'pr': 800, 'qn': 100},\n",
              " '1003': {'name': 'Drink', 'pr': 85, 'qn': 100},\n",
              " '1004': {'name': 'Candy', 'pr': 5, 'qn': 995},\n",
              " '1005': {'name': 'Pen', 'pr': 20, 'qn': 98},\n",
              " '1006': {'name': 'Phone', 'pr': 50000, 'qn': 9},\n",
              " '1007': {'name': 'Mic', 'pr': 1500, 'qn': 0},\n",
              " '1008': {'name': 'Case', 'pr': 599, 'qn': 5},\n",
              " '1009': {'name': 'Keyboard', 'pr': 1999, 'qn': 10},\n",
              " '1010': {'name': 'ice cream', 'pr': 20, 'qn': 47},\n",
              " '1011': {'name': 'Biscuit', 'pr': 5, 'qn': 90},\n",
              " '1012': {'name': 'Sugar', 'pr': 40, 'qn': 50},\n",
              " '1013': {'name': 'wheat', 'pr': 30, 'qn': 145},\n",
              " '1014': {'name': 'ball', 'pr': 30, 'qn': 41},\n",
              " '1015': {'name': 'salt', 'pr': 21, 'qn': 44},\n",
              " '1016': {'name': 'Rice', 'pr': 30, 'qn': 500},\n",
              " '1017': {'name': 'candle', 'pr': 5, 'qn': 50},\n",
              " '1018': {'name': 'pencil', 'pr': 5, 'qn': 23},\n",
              " '1019': {'name': 'Bread', 'pr': 10, 'qn': 40},\n",
              " '1020': {'name': 'Curd', 'pr': 12, 'qn': -9},\n",
              " '1021': {'name': 'coca cola', 'pr': 30, 'qn': 13},\n",
              " '1022': {'name': 'Headphones', 'pr': 150, 'qn': 20},\n",
              " '1023': {'name': 'chargers', 'pr': 100, 'qn': 10},\n",
              " '1024': {'name': 'Umbrella', 'pr': 150, 'qn': 20},\n",
              " '1025': {'name': 'Water Bottles', 'pr': 45, 'qn': 20},\n",
              " '1026': {'name': 'kurkure', 'pr': 5, 'qn': 33},\n",
              " '1027': {'name': 'mangos', 'pr': 10, 'qn': 80},\n",
              " '1028': {'name': 'Vegetable oil', 'pr': 150, 'qn': 50},\n",
              " '1029': {'name': 'tea ', 'pr': 10, 'qn': 50},\n",
              " '1030': {'name': 'Washing powder', 'pr': 65, 'qn': 80},\n",
              " '1031': {'name': 'Jam', 'pr': 30, 'qn': 45},\n",
              " '1032': {'name': 'kit kat', 'pr': 10, 'qn': 29}}"
            ]
          },
          "metadata": {},
          "execution_count": 81
        }
      ]
    },
    {
      "cell_type": "markdown",
      "metadata": {
        "id": "Iv29EIwnSRFZ"
      },
      "source": [
        "# **Purchase**"
      ]
    },
    {
      "cell_type": "code",
      "metadata": {
        "colab": {
          "base_uri": "https://localhost:8080/"
        },
        "id": "hycaQYGTSCg6",
        "outputId": "54910d48-98b1-4b1f-cb6e-d8b214c8f6ac"
      },
      "source": [
        "ui_prod = str(input(\"Enter the product_id: \"))\n",
        "ui_quant = int(input(\"Enter the quantity: \"))\n",
        "\n",
        "if ui_quant <= (records[ui_prod]['qn']):\n",
        "  print(\"Product: \", record[ui_prod]['name'])\n",
        "  print(\"Price: \", records[ui_prod]['pr'])\n",
        "  print(\"Total Amount: \", records[ui_prod]['pr'] * ui_quant)\n",
        "\n",
        "elif ui_quant > (records[ui_prod]['qn']):\n",
        "  print('Out of Stock')\n",
        "\n",
        "\n",
        "records[ui_prod]['qn'] = records[ui_prod]['qn'] - ui_quant"
      ],
      "execution_count": 82,
      "outputs": [
        {
          "output_type": "stream",
          "name": "stdout",
          "text": [
            "Enter the product_id: 1022\n",
            "Enter the quantity: 15\n",
            "Product:  Headphones\n",
            "Price:  150\n",
            "Total Amount:  2250\n"
          ]
        }
      ]
    },
    {
      "cell_type": "markdown",
      "metadata": {
        "id": "EEmqe2tgWWmq"
      },
      "source": [
        "# **Update Inventory after purchase**"
      ]
    },
    {
      "cell_type": "code",
      "metadata": {
        "id": "D77usyLeWH-Y"
      },
      "source": [
        "js = json.dumps(records)\n",
        "\n",
        "fd = open(\"record.json\", 'w')\n",
        "fd.write(js)\n",
        "fd.close()"
      ],
      "execution_count": 83,
      "outputs": []
    },
    {
      "cell_type": "markdown",
      "metadata": {
        "id": "3IpxGka4awhU"
      },
      "source": [
        ""
      ]
    },
    {
      "cell_type": "markdown",
      "metadata": {
        "id": "vL9TDg96XqJV"
      },
      "source": [
        "# **Sales**"
      ]
    },
    {
      "cell_type": "code",
      "metadata": {
        "colab": {
          "base_uri": "https://localhost:8080/"
        },
        "id": "nEu4qGq1XSTN",
        "outputId": "1c4eef08-1de1-44ec-d351-d903ac029ce5"
      },
      "source": [
        "{'prod' : ui_prod, 'qn' : ui_quant, 'amount': records[ui_prod]['pr'] * ui_quant}"
      ],
      "execution_count": 84,
      "outputs": [
        {
          "output_type": "execute_result",
          "data": {
            "text/plain": [
              "{'amount': 2250, 'prod': '1022', 'qn': 15}"
            ]
          },
          "metadata": {},
          "execution_count": 84
        }
      ]
    },
    {
      "cell_type": "code",
      "metadata": {
        "id": "fhDjjiZiYUAw"
      },
      "source": [
        "#"
      ],
      "execution_count": 62,
      "outputs": []
    },
    {
      "cell_type": "code",
      "metadata": {
        "id": "OQj8UF1ob6jK"
      },
      "source": [
        "sales = {1 : {'prod' : ui_prod, 'qn' : ui_quant, 'amount': records[ui_prod]['pr'] * ui_quant},\n",
        "         2 : {'prod' : ui_prod, 'qn' : ui_quant, 'amount': records[ui_prod]['pr'] * ui_quant},\n",
        "         3 : {'prod' : ui_prod, 'qn' : ui_quant, 'amount': records[ui_prod]['pr'] * ui_quant}}"
      ],
      "execution_count": 85,
      "outputs": []
    },
    {
      "cell_type": "code",
      "metadata": {
        "id": "aMTz-ieCYd18"
      },
      "source": [
        "sale = json.dumps(sales)"
      ],
      "execution_count": 86,
      "outputs": []
    },
    {
      "cell_type": "code",
      "metadata": {
        "id": "kWlTR6KVYgSu"
      },
      "source": [
        "fd = open(\"sales.json\", 'w')\n",
        "r = fd.write(sale)\n",
        "fd.close()"
      ],
      "execution_count": 87,
      "outputs": []
    },
    {
      "cell_type": "code",
      "metadata": {
        "id": "7bzANjkbbByj"
      },
      "source": [
        ""
      ],
      "execution_count": null,
      "outputs": []
    }
  ]
}