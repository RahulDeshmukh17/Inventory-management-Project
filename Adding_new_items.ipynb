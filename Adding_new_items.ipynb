{
  "nbformat": 4,
  "nbformat_minor": 0,
  "metadata": {
    "colab": {
      "name": "Adding new items.ipynb",
      "provenance": []
    },
    "kernelspec": {
      "name": "python3",
      "display_name": "Python 3"
    },
    "language_info": {
      "name": "python"
    }
  },
  "cells": [
    {
      "cell_type": "markdown",
      "metadata": {
        "id": "NJMk98fFBXxu"
      },
      "source": [
        "### **Read Data from JSON**"
      ]
    },
    {
      "cell_type": "code",
      "metadata": {
        "id": "BJOVClZ0BAlR"
      },
      "source": [
        "import json\n",
        "\n",
        "fd = open(\"record.json\", 'r')\n",
        "r = fd.read()\n",
        "fd.close()\n"
      ],
      "execution_count": 2,
      "outputs": []
    },
    {
      "cell_type": "code",
      "metadata": {
        "id": "gD9g-N8cB8cp"
      },
      "source": [
        "record = json.loads(r)"
      ],
      "execution_count": 3,
      "outputs": []
    },
    {
      "cell_type": "code",
      "metadata": {
        "colab": {
          "base_uri": "https://localhost:8080/"
        },
        "id": "H7a1v7xdCDU1",
        "outputId": "24415e82-57c3-4f5c-b569-ef306940b446"
      },
      "source": [
        "record"
      ],
      "execution_count": 4,
      "outputs": [
        {
          "output_type": "execute_result",
          "data": {
            "text/plain": [
              "{'1001': {'name': 'Choco Cake', 'pr': 100, 'qn': 34},\n",
              " '1002': {'name': 'Milk Cake', 'pr': 800, 'qn': 100},\n",
              " '1003': {'name': 'Drink', 'pr': 85, 'qn': 100},\n",
              " '1004': {'name': 'Candy', 'pr': 5, 'qn': 1000},\n",
              " '1005': {'name': 'Pen', 'pr': 20, 'qn': 100},\n",
              " '1006': {'name': 'Phone', 'pr': 50000, 'qn': 10},\n",
              " '1007': {'name': 'Mic', 'pr': 1500, 'qn': 0},\n",
              " '1008': {'name': 'Case', 'pr': 599, 'qn': 5},\n",
              " '1009': {'name': 'Keyboard', 'pr': 1999, 'qn': 10}}"
            ]
          },
          "metadata": {},
          "execution_count": 4
        }
      ]
    },
    {
      "cell_type": "markdown",
      "metadata": {
        "id": "L-tBoGt6COkM"
      },
      "source": [
        "# **Adding new items into inventory**"
      ]
    },
    {
      "cell_type": "code",
      "metadata": {
        "colab": {
          "base_uri": "https://localhost:8080/"
        },
        "id": "HEiW_hBcCEp2",
        "outputId": "81fc0d5c-4adc-4fa9-888f-c2ecb1461e20"
      },
      "source": [
        "prod_id = str(input(\"Enter product_id: \"))\n",
        "name = str(input(\"Enter name: \"))\n",
        "pr = int(input(\"Enter price: \"))\n",
        "qn =int(input(\"Enter quantity: \"))\n",
        "\n",
        "record[prod_id] = {'name': name, 'pr': pr, 'qn': qn}\n",
        "\n",
        "js = json.dumps(record)\n",
        "\n",
        "fd = open(\"record.json\", 'w')\n",
        "fd.write(js)\n",
        "\n",
        "fd.close()"
      ],
      "execution_count": 28,
      "outputs": [
        {
          "name": "stdout",
          "output_type": "stream",
          "text": [
            "Enter product_id: 1032\n",
            "Enter name: kit kat\n",
            "Enter price: 10\n",
            "Enter quantity: 35\n"
          ]
        }
      ]
    },
    {
      "cell_type": "code",
      "metadata": {
        "colab": {
          "base_uri": "https://localhost:8080/"
        },
        "id": "85jXYnXCClqJ",
        "outputId": "b7bec6ab-b916-479e-81fc-3a9d249791df"
      },
      "source": [
        "record\n"
      ],
      "execution_count": 29,
      "outputs": [
        {
          "output_type": "execute_result",
          "data": {
            "text/plain": [
              "{'1001': {'name': 'Choco Cake', 'pr': 100, 'qn': 34},\n",
              " '1002': {'name': 'Milk Cake', 'pr': 800, 'qn': 100},\n",
              " '1003': {'name': 'Drink', 'pr': 85, 'qn': 100},\n",
              " '1004': {'name': 'Candy', 'pr': 5, 'qn': 1000},\n",
              " '1005': {'name': 'Pen', 'pr': 20, 'qn': 100},\n",
              " '1006': {'name': 'Phone', 'pr': 50000, 'qn': 10},\n",
              " '1007': {'name': 'Mic', 'pr': 1500, 'qn': 0},\n",
              " '1008': {'name': 'Case', 'pr': 599, 'qn': 5},\n",
              " '1009': {'name': 'Keyboard', 'pr': 1999, 'qn': 10},\n",
              " '1010': {'name': 'ice cream', 'pr': 20, 'qn': 50},\n",
              " '1011': {'name': 'Biscuit', 'pr': 5, 'qn': 100},\n",
              " '1012': {'name': 'Sugar', 'pr': 40, 'qn': 50},\n",
              " '1013': {'name': 'wheat', 'pr': 30, 'qn': 150},\n",
              " '1014': {'name': 'ball', 'pr': 30, 'qn': 46},\n",
              " '1015': {'name': 'salt', 'pr': 21, 'qn': 45},\n",
              " '1016': {'name': 'Rice', 'pr': 30, 'qn': 500},\n",
              " '1017': {'name': 'candle', 'pr': 5, 'qn': 50},\n",
              " '1018': {'name': 'pencil', 'pr': 5, 'qn': 25},\n",
              " '1019': {'name': 'Bread', 'pr': 10, 'qn': 45},\n",
              " '1020': {'name': 'Curd', 'pr': 12, 'qn': 0},\n",
              " '1021': {'name': 'coca cola', 'pr': 30, 'qn': 15},\n",
              " '1022': {'name': 'Headphones', 'pr': 150, 'qn': 20},\n",
              " '1023': {'name': 'chargers', 'pr': 100, 'qn': 10},\n",
              " '1024': {'name': 'Umbrella', 'pr': 150, 'qn': 20},\n",
              " '1025': {'name': 'Water Bottles', 'pr': 45, 'qn': 20},\n",
              " '1026': {'name': 'kurkure', 'pr': 5, 'qn': 40},\n",
              " '1027': {'name': 'mangos', 'pr': 10, 'qn': 80},\n",
              " '1028': {'name': 'Vegetable oil', 'pr': 150, 'qn': 50},\n",
              " '1029': {'name': 'tea ', 'pr': 10, 'qn': 50},\n",
              " '1030': {'name': 'Washing powder', 'pr': 65, 'qn': 80},\n",
              " '1031': {'name': 'Jam', 'pr': 30, 'qn': 45},\n",
              " '1032': {'name': 'kit kat', 'pr': 10, 'qn': 35}}"
            ]
          },
          "metadata": {},
          "execution_count": 29
        }
      ]
    },
    {
      "cell_type": "code",
      "metadata": {
        "id": "-Mh9pZfNEt7m"
      },
      "source": [
        ""
      ],
      "execution_count": null,
      "outputs": []
    }
  ]
}